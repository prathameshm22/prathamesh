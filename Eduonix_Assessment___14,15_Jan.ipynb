{
  "nbformat": 4,
  "nbformat_minor": 0,
  "metadata": {
    "colab": {
      "provenance": []
    },
    "kernelspec": {
      "name": "python3",
      "display_name": "Python 3"
    },
    "language_info": {
      "name": "python"
    }
  },
  "cells": [
    {
      "cell_type": "markdown",
      "metadata": {
        "id": "KB9ZI2xAjkF6"
      },
      "source": [
        "## <u>Problem 1</u>\n",
        "\n",
        "A list contains the average daily temperature(in degree Celsius) of a city over a particular week. Write a Python code to find the index of maximum and minimum temperatures"
      ]
    },
    {
      "cell_type": "code",
      "metadata": {
        "id": "O3ZtUcxsjkF7"
      },
      "source": [
        "# A list containing average daily temperature over a week \n",
        "temperatures = [34, 40, 29, 33, 42, 37, 39 ]\n"
      ],
      "execution_count": 7,
      "outputs": []
    },
    {
      "cell_type": "code",
      "metadata": {
        "id": "HRFHv7OXjkGR",
        "colab": {
          "base_uri": "https://localhost:8080/"
        },
        "outputId": "54d42a11-9b66-4af2-8b39-634f54f835b2"
      },
      "source": [
        "# Store the highest temperature\n",
        "max_temp= max(temperatures)\n",
        "print(max_temp)\n",
        "\n",
        "# Index of the element with the highest temperature\n",
        "\n",
        "max_temp_index = temperatures.index(max_temp)\n",
        "print(max_temp_index)\n",
        "\n",
        "\n",
        "\n"
      ],
      "execution_count": 9,
      "outputs": [
        {
          "output_type": "stream",
          "name": "stdout",
          "text": [
            "42\n",
            "4\n"
          ]
        }
      ]
    },
    {
      "cell_type": "code",
      "metadata": {
        "id": "8lsfVKbcjkGW",
        "colab": {
          "base_uri": "https://localhost:8080/"
        },
        "outputId": "c387be66-ba0f-4408-8c88-7cccdc08230f"
      },
      "source": [
        "# Store the lowest temperature \n",
        "min_temp = min(temperatures)\n",
        "print(min_temp)\n",
        "\n",
        "# Index of the element with the lowest temperature\n",
        "min_temp_index =temperatures.index(min_temp)\n",
        "print(min_temp_index)"
      ],
      "execution_count": 12,
      "outputs": [
        {
          "output_type": "stream",
          "name": "stdout",
          "text": [
            "29\n",
            "2\n"
          ]
        }
      ]
    },
    {
      "cell_type": "markdown",
      "source": [
        "# Problem-2"
      ],
      "metadata": {
        "id": "UB2qK0E-sB0G"
      }
    },
    {
      "cell_type": "markdown",
      "source": [
        "Change the values of dictionary to river names"
      ],
      "metadata": {
        "id": "4QuqN8ZHtGeW"
      }
    },
    {
      "cell_type": "code",
      "source": [
        "city = {\"Nepal\": \"Kathmandu\", \"England\": \"London\"}"
      ],
      "metadata": {
        "id": "_pheEFxmtCLQ"
      },
      "execution_count": 14,
      "outputs": []
    },
    {
      "cell_type": "code",
      "source": [
        "city = {\"Nepal\": \"Kathmandu\", \"England\": \"London\"}\n",
        "\n",
        "city[\"Nepal\"] = \"Bagmati\"\n",
        "city[\"England\"] = \"Thames\"\n",
        "\n",
        "print(city)\n",
        "# Output: {\"Nepal\": \"Bagmati\", \"England\": \"Thames\"}\n",
        "\n",
        "\n",
        "\n",
        "\n"
      ],
      "metadata": {
        "colab": {
          "base_uri": "https://localhost:8080/"
        },
        "id": "zllW6uWbPJ2a",
        "outputId": "65ae1e30-1f37-4cb3-b437-cea8f7b9ba06"
      },
      "execution_count": 16,
      "outputs": [
        {
          "output_type": "stream",
          "name": "stdout",
          "text": [
            "{'Nepal': 'Bagmati', 'England': 'Thames'}\n"
          ]
        }
      ]
    },
    {
      "cell_type": "code",
      "source": [],
      "metadata": {
        "id": "nKbCTfUBPKjW"
      },
      "execution_count": null,
      "outputs": []
    }
  ]
}